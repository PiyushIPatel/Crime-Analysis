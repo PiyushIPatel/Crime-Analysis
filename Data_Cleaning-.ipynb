{
 "cells": [
  {
   "cell_type": "markdown",
   "id": "05b35fe2-5800-4880-8cac-44891ca15867",
   "metadata": {},
   "source": [
    "## Setting Environment"
   ]
  },
  {
   "cell_type": "code",
   "execution_count": 1,
   "id": "482c2196-c952-4d07-9a2a-13c9f949b256",
   "metadata": {},
   "outputs": [],
   "source": [
    "import os\n",
    "import sys\n",
    "\n",
    "os.environ['PYSPARK_PYTHON'] = sys.executable\n",
    "os.environ['PYSPARK_DRIVER_PYTHON'] = sys.executable\n",
    "\n",
    "os.environ[\"HADOOP_HOME\"] = \"C:\\hadoop\"\n",
    "os.environ[\"HADOOP_OPTS\"] = \"-Djava.library.path=C:\\spark-3.5.4-bin-hadoop3\\bin\""
   ]
  },
  {
   "cell_type": "markdown",
   "id": "abedcba4-a395-47e8-9fda-14f8e693b785",
   "metadata": {},
   "source": [
    "## Importing Libraries"
   ]
  },
  {
   "cell_type": "code",
   "execution_count": 2,
   "id": "549f2ded-ca20-46bc-bc1c-df6a0ddf5ba3",
   "metadata": {},
   "outputs": [],
   "source": [
    "from pyspark.sql import SparkSession\n",
    "from pyspark.sql.functions import col, count, when, isnan, to_date, lpad, concat_ws, mean, expr, udf\n",
    "from pyspark.sql.types import StringType, IntegerType\n",
    "from pyspark.sql import functions as F\n",
    "import pandas as pd\n",
    "import numpy as np"
   ]
  },
  {
   "cell_type": "markdown",
   "id": "885c4697-0dbb-4e14-8abd-54f309dae1e9",
   "metadata": {},
   "source": [
    "## Initializing Spark Session"
   ]
  },
  {
   "cell_type": "code",
   "execution_count": 3,
   "id": "3f24718f-098d-427a-878a-6fb03d8c2895",
   "metadata": {},
   "outputs": [],
   "source": [
    "# Initialize Spark session\n",
    "spark = SparkSession.builder \\\n",
    "    .appName(\"CrimeDataAnalysis\") \\\n",
    "    .config(\"spark.executor.memory\", \"4g\") \\\n",
    "    .config(\"spark.driver.memory\", \"4g\") \\\n",
    "    .config(\"spark.python.worker.reuse\", \"true\") \\\n",
    "    .config(\"spark.network.timeout\", \"10000000\") \\\n",
    "    .config(\"spark.hadoop.io.nativeio.NativeIO.Windows\", False)\\\n",
    "    .getOrCreate()\n"
   ]
  },
  {
   "cell_type": "markdown",
   "id": "f3df0508-1f19-4bbe-8d00-1b62d95cb37a",
   "metadata": {},
   "source": [
    "## Load Dataset and display Schema"
   ]
  },
  {
   "cell_type": "code",
   "execution_count": 4,
   "id": "9adee7e3-74db-4be8-a3c6-f6a467176b78",
   "metadata": {},
   "outputs": [
    {
     "name": "stdout",
     "output_type": "stream",
     "text": [
      "root\n",
      " |-- DR_NO: integer (nullable = true)\n",
      " |-- Date Rptd: string (nullable = true)\n",
      " |-- DATE OCC: string (nullable = true)\n",
      " |-- TIME OCC: integer (nullable = true)\n",
      " |-- AREA: integer (nullable = true)\n",
      " |-- AREA NAME: string (nullable = true)\n",
      " |-- Rpt Dist No: integer (nullable = true)\n",
      " |-- Part 1-2: integer (nullable = true)\n",
      " |-- Crm Cd: integer (nullable = true)\n",
      " |-- Crm Cd Desc: string (nullable = true)\n",
      " |-- Mocodes: string (nullable = true)\n",
      " |-- Vict Age: integer (nullable = true)\n",
      " |-- Vict Sex: string (nullable = true)\n",
      " |-- Vict Descent: string (nullable = true)\n",
      " |-- Premis Cd: integer (nullable = true)\n",
      " |-- Premis Desc: string (nullable = true)\n",
      " |-- Weapon Used Cd: integer (nullable = true)\n",
      " |-- Weapon Desc: string (nullable = true)\n",
      " |-- Status: string (nullable = true)\n",
      " |-- Status Desc: string (nullable = true)\n",
      " |-- Crm Cd 1: integer (nullable = true)\n",
      " |-- Crm Cd 2: integer (nullable = true)\n",
      " |-- Crm Cd 3: integer (nullable = true)\n",
      " |-- Crm Cd 4: integer (nullable = true)\n",
      " |-- LOCATION: string (nullable = true)\n",
      " |-- Cross Street: string (nullable = true)\n",
      " |-- LAT: double (nullable = true)\n",
      " |-- LON: double (nullable = true)\n",
      "\n"
     ]
    }
   ],
   "source": [
    "# Load the dataset\n",
    "data_path = \"Crime_Data_from_2020_to_Present.csv\"\n",
    "df = spark.read.csv(data_path, header=True, inferSchema=True)\n",
    "\n",
    "# Display schema\n",
    "df.printSchema()"
   ]
  },
  {
   "cell_type": "markdown",
   "id": "226282ed-e51e-4e78-a0b0-70e8d5c6c640",
   "metadata": {},
   "source": [
    "## Dropping unnecessary columns, handling missing values, displaying count of null per columns"
   ]
  },
  {
   "cell_type": "code",
   "execution_count": 5,
   "id": "d8a1dfc8-7d72-42d1-9ba8-e9938dd71014",
   "metadata": {},
   "outputs": [
    {
     "name": "stdout",
     "output_type": "stream",
     "text": [
      "+---------+--------+--------+---------+-----------+--------+------+-----------+--------+--------+------------+-----------+-----------+---+---+\n",
      "|Date Rptd|DATE OCC|TIME OCC|AREA NAME|Rpt Dist No|Part 1-2|Crm Cd|Crm Cd Desc|Vict Age|Vict Sex|Vict Descent|Premis Desc|Status Desc|LAT|LON|\n",
      "+---------+--------+--------+---------+-----------+--------+------+-----------+--------+--------+------------+-----------+-----------+---+---+\n",
      "|        0|       0|       0|        0|          0|       0|     0|          0|       0|  173887|      173903|        643|          0|  0|  0|\n",
      "+---------+--------+--------+---------+-----------+--------+------+-----------+--------+--------+------------+-----------+-----------+---+---+\n",
      "\n"
     ]
    }
   ],
   "source": [
    "# Drop unnecessary columns\n",
    "drop_columns = ['DR_NO', 'AREA', 'Mocodes', 'Premis Cd', 'Weapon Used Cd', \n",
    "                'Crm Cd 1', 'Status', 'Crm Cd 2', 'Crm Cd 3', 'Crm Cd 4', 'LOCATION', 'Cross Street']\n",
    "df = df.drop(*drop_columns)\n",
    "\n",
    "# Handling missing values by dropping 'Weapon Desc' column\n",
    "df = df.drop(\"Weapon Desc\")\n",
    "\n",
    "# Display count of null values per column\n",
    "df.select([count(when(col(c).isNull() | isnan(col(c)), c)).alias(c) for c in df.columns]).show()\n"
   ]
  },
  {
   "cell_type": "markdown",
   "id": "6316cf80-2e5e-4672-9896-10fc6ba575d1",
   "metadata": {},
   "source": [
    "## Renaming column names, Handling Victim Descent"
   ]
  },
  {
   "cell_type": "code",
   "execution_count": 6,
   "id": "d5d98d3b-825d-4c63-9e25-98e7b0b4ee48",
   "metadata": {},
   "outputs": [],
   "source": [
    "# Convert 'TIME OCC' to string, pad with zeros, and format as HH:MM\n",
    "df = df.withColumn(\"TIME OCC\", lpad(col(\"TIME OCC\").cast(\"string\"), 4, \"0\"))\n",
    "df = df.withColumn(\"Crime Time\", concat_ws(\":\", col(\"TIME OCC\").substr(1,2), col(\"TIME OCC\").substr(3,2))).drop(\"TIME OCC\")\n",
    "\n",
    "# Standardizing 'AREA NAME'\n",
    "df = df.withColumn(\"AREA NAME\", expr(\"CASE WHEN `AREA NAME` = 'N Hollywood' THEN 'North Hollywood' ELSE `AREA NAME` END\"))\n",
    "\n",
    "# Rename 'Rpt Dist No' to 'No. Report District'\n",
    "df = df.withColumnRenamed(\"Rpt Dist No\", \"No. Report District\")\n",
    "\n",
    "# Rename 'Part 1-2' to 'Uniform Crime Reports (UCR)'\n",
    "df = df.withColumnRenamed(\"Part 1-2\", \"Uniform Crime Reports (UCR)\")\n",
    "\n",
    "# Rename 'Crm Cd' to 'Crime Code'\n",
    "df = df.withColumnRenamed(\"Crm Cd\", \"Crime Code\")\n",
    "\n",
    "# Rename 'Crm Cd Desc' to 'Crime Description'\n",
    "df = df.withColumnRenamed(\"Crm Cd Desc\", \"Crime Description\")\n",
    "\n",
    "\n",
    "# Handling Victim Descent\n",
    "descent_mapping = {\n",
    "    'A': 'Other Asian', 'B': 'Black', 'C': 'Chinese', 'D': 'Cambodian',\n",
    "    'F': 'Filipino', 'G': 'Guamanian', 'H': 'Hispanic/Latin/Mexican',\n",
    "    'I': 'American Indian/Alaskan Native', 'J': 'Japanese', 'K': 'Korean',\n",
    "    'L': 'Laotian', 'O': 'Other', 'P': 'Pacific Islander', 'S': 'Samoan',\n",
    "    'U': 'Hawaiian', 'V': 'Vietnamese', 'W': 'White', 'X': 'Unknown',\n",
    "    '-': 'Unknown', 'Z': 'Asian Indian'\n",
    "}\n",
    "\n",
    "descent_udf = udf(lambda x: descent_mapping.get(x, \"Unknown\"), StringType())\n",
    "df = df.withColumn(\"Victim Descent\", descent_udf(col(\"Vict Descent\"))).drop(\"Vict Descent\")\n",
    "\n",
    "# Handling Premises Description\n",
    "df = df.fillna({\"Premis Desc\": \"Unknown\"}).withColumnRenamed(\"Premis Desc\", \"Crime Location\")\n",
    "\n",
    "# Rename 'Status Desc' to 'Case Status'\n",
    "df = df.withColumnRenamed(\"Status Desc\", \"Case Status\")\n",
    "\n",
    "# Rename Latitude and Longitude\n",
    "df = df.withColumnRenamed(\"LAT\", \"Latitude\").withColumnRenamed(\"LON\", \"Longitude\")\n",
    "\n"
   ]
  },
  {
   "cell_type": "markdown",
   "id": "61cf718a-4fef-40a2-848d-3b8e3e52a173",
   "metadata": {},
   "source": [
    "## Handling Report and Crime dates, converting to date type date and renaming column"
   ]
  },
  {
   "cell_type": "code",
   "execution_count": 7,
   "id": "456b2e3b-cd76-409a-b264-3dc75491423e",
   "metadata": {},
   "outputs": [
    {
     "name": "stderr",
     "output_type": "stream",
     "text": [
      "C:\\Users\\Dell\\AppData\\Local\\Temp\\ipykernel_18660\\3350177169.py:5: UserWarning: Could not infer format, so each element will be parsed individually, falling back to `dateutil`. To ensure parsing is consistent and as-expected, please specify a format.\n",
      "  conv_df['Date Rptd'] = pd.to_datetime(conv_df['Date Rptd']).dt.date\n",
      "C:\\Users\\Dell\\AppData\\Local\\Temp\\ipykernel_18660\\3350177169.py:12: UserWarning: Could not infer format, so each element will be parsed individually, falling back to `dateutil`. To ensure parsing is consistent and as-expected, please specify a format.\n",
      "  conv_df['DATE OCC'] = pd.to_datetime(conv_df['DATE OCC']).dt.date\n"
     ]
    }
   ],
   "source": [
    "conv_df = df.toPandas()  # Convert PySpark DataFrame to Pandas DataFrame\n",
    "\n",
    "\n",
    "# extract the date\n",
    "conv_df['Date Rptd'] = pd.to_datetime(conv_df['Date Rptd']).dt.date\n",
    "# rename to 'Report Date'\n",
    "conv_df = conv_df.rename(columns={'Date Rptd': 'Report Date'})\n",
    "# convert the column to datetime\n",
    "conv_df['Report Date'] = pd.to_datetime(conv_df['Report Date'])\n",
    "\n",
    "# extract the date\n",
    "conv_df['DATE OCC'] = pd.to_datetime(conv_df['DATE OCC']).dt.date\n",
    "# rename to 'Crime Date'\n",
    "conv_df = conv_df.rename(columns={'DATE OCC': 'Crime Date'})\n",
    "# convert the column to datetime\n",
    "conv_df['Crime Date'] = pd.to_datetime(conv_df['Crime Date'])"
   ]
  },
  {
   "cell_type": "markdown",
   "id": "9b428d5a-2554-4243-a375-41f25dfa9090",
   "metadata": {},
   "source": [
    "## Creating Age Group column from Victim Age, replacing full gender name and renaming from Vict Sex to Victim_Gender"
   ]
  },
  {
   "cell_type": "code",
   "execution_count": 8,
   "id": "4d94e49c-3b35-4cb8-b8b5-1198d6cdae49",
   "metadata": {},
   "outputs": [
    {
     "name": "stdout",
     "output_type": "stream",
     "text": [
      "  Report Date Crime Date   AREA NAME  No. Report District  \\\n",
      "0  2020-03-01 2020-03-01    Wilshire                  784   \n",
      "1  2020-02-09 2020-02-08     Central                  182   \n",
      "2  2020-11-11 2020-11-04   Southwest                  356   \n",
      "3  2023-05-10 2020-03-10    Van Nuys                  964   \n",
      "4  2020-09-09 2020-09-09  Hollenbeck                  413   \n",
      "\n",
      "   Uniform Crime Reports (UCR)  Crime Code  \\\n",
      "0                            1         510   \n",
      "1                            1         330   \n",
      "2                            1         480   \n",
      "3                            1         343   \n",
      "4                            1         510   \n",
      "\n",
      "                          Crime Description  Victim Age Victim Gender  \\\n",
      "0                          VEHICLE - STOLEN   39.454684          Male   \n",
      "1                     BURGLARY FROM VEHICLE   47.000000          Male   \n",
      "2                             BIKE - STOLEN   19.000000       Unknown   \n",
      "3  SHOPLIFTING-GRAND THEFT ($950.01 & OVER)   19.000000          Male   \n",
      "4                          VEHICLE - STOLEN   39.454684       Unknown   \n",
      "\n",
      "                                 Crime Location   Case Status  Latitude  \\\n",
      "0                                        STREET  Adult Arrest   34.0375   \n",
      "1             BUS STOP/LAYOVER (ALSO QUERY 124)   Invest Cont   34.0444   \n",
      "2  MULTI-UNIT DWELLING (APARTMENT, DUPLEX, ETC)   Invest Cont   34.0210   \n",
      "3                                CLOTHING STORE   Invest Cont   34.1576   \n",
      "4                                        STREET   Invest Cont   34.0820   \n",
      "\n",
      "   Longitude Crime Time Victim Descent Age Group  \n",
      "0  -118.3506      21:30          Other     Adult  \n",
      "1  -118.2628      18:00          Other     Adult  \n",
      "2  -118.3002      17:00        Unknown     Adult  \n",
      "3  -118.4387      20:37          Other     Adult  \n",
      "4  -118.2130      06:30        Unknown     Adult  \n"
     ]
    }
   ],
   "source": [
    "\n",
    "# Replace invalid values with mean of valid ages\n",
    "valid_age_mean = conv_df.loc[conv_df[\"Vict Age\"] > 0, \"Vict Age\"].mean()\n",
    "conv_df[\"Vict Age\"] = conv_df[\"Vict Age\"].apply(lambda x: valid_age_mean if x <= 0 else x)\n",
    "\n",
    "# Remove outliers\n",
    "conv_df = conv_df[conv_df[\"Vict Age\"] < 110]\n",
    "\n",
    "# Rename Column\n",
    "conv_df.rename(columns={\"Vict Age\": \"Victim Age\"}, inplace=True)\n",
    "\n",
    "# Categorize Age Groups Without UDF\n",
    "conditions = [\n",
    "    (conv_df[\"Victim Age\"] <= 12),\n",
    "    (conv_df[\"Victim Age\"].between(13, 17)),\n",
    "    (conv_df[\"Victim Age\"].between(18, 64)),\n",
    "    (conv_df[\"Victim Age\"] >= 65)\n",
    "]\n",
    "choices = [\"Child\", \"Teen\", \"Adult\", \"Old\"]\n",
    "\n",
    "conv_df[\"Age Group\"] = np.select(conditions, choices, default=\"Unknown\")\n",
    "\n",
    "\n",
    "\n",
    "# replace values with the full gender name and add 'H' vales to Unknown label\n",
    "conv_df['Vict Sex'].replace({'M':'Male', 'F':'Female', 'X':'Unknown', 'H':'Unknown'}, inplace = True)\n",
    "\n",
    "# fill null values with 'Unknown'\n",
    "conv_df['Vict Sex'].fillna('Unknown', inplace=True)\n",
    "\n",
    "# we want to rename this column to 'Victim Gender'\n",
    "conv_df = conv_df.rename(columns={'Vict Sex': 'Victim Gender'})\n",
    "\n",
    "\n",
    "# Show the first 5 rows\n",
    "print(conv_df.head())\n",
    "\n"
   ]
  },
  {
   "cell_type": "markdown",
   "id": "4bc2a475-6a56-4194-be16-0b4bc728ec30",
   "metadata": {},
   "source": [
    "# Saving the Cleaned CSV and stopping spark session"
   ]
  },
  {
   "cell_type": "code",
   "execution_count": 10,
   "id": "94569c06-4f01-4e44-bc9a-526b666f7101",
   "metadata": {},
   "outputs": [
    {
     "name": "stdout",
     "output_type": "stream",
     "text": [
      "root\n",
      " |-- Report Date: timestamp (nullable = true)\n",
      " |-- Crime Date: timestamp (nullable = true)\n",
      " |-- AREA NAME: string (nullable = true)\n",
      " |-- No. Report District: long (nullable = true)\n",
      " |-- Uniform Crime Reports (UCR): long (nullable = true)\n",
      " |-- Crime Code: long (nullable = true)\n",
      " |-- Crime Description: string (nullable = true)\n",
      " |-- Victim Age: double (nullable = true)\n",
      " |-- Victim Gender: string (nullable = true)\n",
      " |-- Crime Location: string (nullable = true)\n",
      " |-- Case Status: string (nullable = true)\n",
      " |-- Latitude: double (nullable = true)\n",
      " |-- Longitude: double (nullable = true)\n",
      " |-- Crime Time: string (nullable = true)\n",
      " |-- Victim Descent: string (nullable = true)\n",
      " |-- Age Group: string (nullable = true)\n",
      "\n"
     ]
    }
   ],
   "source": [
    "# Save cleaned data\n",
    "#conv_df.to_csv('LA_Crime_Data_2020_2023_Cleaned.csv')\n",
    "\n",
    "df = spark.createDataFrame(conv_df)\n",
    "\n",
    "df.printSchema()\n",
    "\n"
   ]
  },
  {
   "cell_type": "code",
   "execution_count": 16,
   "id": "c1ab5359-0d23-469b-928c-5f6fa04b8ac8",
   "metadata": {},
   "outputs": [
    {
     "name": "stdout",
     "output_type": "stream",
     "text": [
      "+-------------------+-------------------+---------+-------------------+---------------------------+----------+--------------------+-----------------+-------------+--------------------+------------+--------+---------+----------+--------------+---------+\n",
      "|        Report Date|         Crime Date|AREA NAME|No. Report District|Uniform Crime Reports (UCR)|Crime Code|   Crime Description|       Victim Age|Victim Gender|      Crime Location| Case Status|Latitude|Longitude|Crime Time|Victim Descent|Age Group|\n",
      "+-------------------+-------------------+---------+-------------------+---------------------------+----------+--------------------+-----------------+-------------+--------------------+------------+--------+---------+----------+--------------+---------+\n",
      "|2020-03-01 00:00:00|2020-03-01 00:00:00| Wilshire|                784|                          1|       510|    VEHICLE - STOLEN|39.45468397680166|         Male|              STREET|Adult Arrest| 34.0375|-118.3506|     21:30|         Other|    Adult|\n",
      "|2020-02-09 00:00:00|2020-02-08 00:00:00|  Central|                182|                          1|       330|BURGLARY FROM VEH...|             47.0|         Male|BUS STOP/LAYOVER ...| Invest Cont| 34.0444|-118.2628|     18:00|         Other|    Adult|\n",
      "|2020-11-11 00:00:00|2020-11-04 00:00:00|Southwest|                356|                          1|       480|       BIKE - STOLEN|             19.0|      Unknown|MULTI-UNIT DWELLI...| Invest Cont|  34.021|-118.3002|     17:00|       Unknown|    Adult|\n",
      "+-------------------+-------------------+---------+-------------------+---------------------------+----------+--------------------+-----------------+-------------+--------------------+------------+--------+---------+----------+--------------+---------+\n",
      "only showing top 3 rows\n",
      "\n"
     ]
    }
   ],
   "source": [
    "# Show a sample of data\n",
    "df.show(3)"
   ]
  },
  {
   "cell_type": "code",
   "execution_count": 15,
   "id": "4d9340ab-f18b-426b-b66c-32993b7599e5",
   "metadata": {},
   "outputs": [
    {
     "data": {
      "image/png": "[encoded data removed]",
      "text/plain": [
       "<Figure size 1000x600 with 1 Axes>"
      ]
     },
     "metadata": {},
     "output_type": "display_data"
    }
   ],
   "source": [
    "# Plot missing values using a bar chart\n",
    "total_values = conv_df.notnull().sum()\n",
    "plt.figure(figsize=(10, 6))\n",
    "total_values.plot(kind='bar', color='orange')\n",
    "plt.xlabel(\"Columns\")\n",
    "plt.ylabel(\"Total Value Count\")\n",
    "plt.title(\"Total Values in Each Column\")\n",
    "plt.xticks(rotation=90)\n",
    "plt.show()"
   ]
  },
  {
   "cell_type": "code",
   "execution_count": 17,
   "id": "a779951c-dad4-405d-bd26-fac70af0466e",
   "metadata": {},
   "outputs": [],
   "source": [
    "# Stop Spark session\n",
    "spark.stop()"
   ]
  },
  {
   "cell_type": "code",
   "execution_count": null,
   "id": "386d15b2-a5f6-4a00-93d6-92b3ffdf2514",
   "metadata": {},
   "outputs": [],
   "source": []
  }
 ],
 "metadata": {
  "kernelspec": {
   "display_name": "task4-Kernel",
   "language": "python",
   "name": "task4"
  },
  "language_info": {
   "codemirror_mode": {
    "name": "ipython",
    "version": 3
   },
   "file_extension": ".py",
   "mimetype": "text/x-python",
   "name": "python",
   "nbconvert_exporter": "python",
   "pygments_lexer": "ipython3",
   "version": "3.8.20"
  }
 },
 "nbformat": 4,
 "nbformat_minor": 5
}
